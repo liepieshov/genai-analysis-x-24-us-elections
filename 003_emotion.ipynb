{
 "cells": [
  {
   "cell_type": "code",
   "execution_count": 3,
   "id": "38e85c5c-a109-45d8-a2f4-511a7b42b2cb",
   "metadata": {},
   "outputs": [],
   "source": [
    "import tweetnlp\n",
    "import pandas as pd\n",
    "from tqdm.notebook import tqdm"
   ]
  },
  {
   "cell_type": "code",
   "execution_count": 4,
   "id": "87abb797-1b5a-4113-bddf-4501a386d939",
   "metadata": {},
   "outputs": [
    {
     "data": {
      "text/html": [
       "<div>\n",
       "<style scoped>\n",
       "    .dataframe tbody tr th:only-of-type {\n",
       "        vertical-align: middle;\n",
       "    }\n",
       "\n",
       "    .dataframe tbody tr th {\n",
       "        vertical-align: top;\n",
       "    }\n",
       "\n",
       "    .dataframe thead th {\n",
       "        text-align: right;\n",
       "    }\n",
       "</style>\n",
       "<table border=\"1\" class=\"dataframe\">\n",
       "  <thead>\n",
       "    <tr style=\"text-align: right;\">\n",
       "      <th></th>\n",
       "      <th>text</th>\n",
       "      <th>dt</th>\n",
       "      <th>replyCount</th>\n",
       "      <th>retweetCount</th>\n",
       "      <th>likeCount</th>\n",
       "      <th>quoteCount</th>\n",
       "      <th>viewCount</th>\n",
       "      <th>user_created</th>\n",
       "      <th>user_followers</th>\n",
       "      <th>user_following</th>\n",
       "      <th>user_tweets</th>\n",
       "      <th>user_verified</th>\n",
       "      <th>user_blue</th>\n",
       "    </tr>\n",
       "  </thead>\n",
       "  <tbody>\n",
       "    <tr>\n",
       "      <th>0</th>\n",
       "      <td>@VivekGRamaswamy Biden is backing them?</td>\n",
       "      <td>2024-10-02 00:38:42</td>\n",
       "      <td>205</td>\n",
       "      <td>349</td>\n",
       "      <td>5043</td>\n",
       "      <td>18</td>\n",
       "      <td>216908</td>\n",
       "      <td>2009-06-02 20:12:29+00:00</td>\n",
       "      <td>202752698</td>\n",
       "      <td>796</td>\n",
       "      <td>56345</td>\n",
       "      <td>False</td>\n",
       "      <td>True</td>\n",
       "    </tr>\n",
       "    <tr>\n",
       "      <th>1</th>\n",
       "      <td>@BillAckman @POTUS @KamalaHarris @DNC One can ...</td>\n",
       "      <td>2024-10-04 01:44:44</td>\n",
       "      <td>207</td>\n",
       "      <td>719</td>\n",
       "      <td>4343</td>\n",
       "      <td>16</td>\n",
       "      <td>130881</td>\n",
       "      <td>2009-06-02 20:12:29+00:00</td>\n",
       "      <td>202754455</td>\n",
       "      <td>796</td>\n",
       "      <td>56350</td>\n",
       "      <td>False</td>\n",
       "      <td>True</td>\n",
       "    </tr>\n",
       "    <tr>\n",
       "      <th>2</th>\n",
       "      <td>@atensnut @BillAckman @POTUS @KamalaHarris @DN...</td>\n",
       "      <td>2024-10-04 02:25:35</td>\n",
       "      <td>57</td>\n",
       "      <td>97</td>\n",
       "      <td>1176</td>\n",
       "      <td>9</td>\n",
       "      <td>17669</td>\n",
       "      <td>2009-06-02 20:12:29+00:00</td>\n",
       "      <td>202747214</td>\n",
       "      <td>796</td>\n",
       "      <td>56373</td>\n",
       "      <td>False</td>\n",
       "      <td>True</td>\n",
       "    </tr>\n",
       "    <tr>\n",
       "      <th>3</th>\n",
       "      <td>@Raymond26773481 @BillAckman @POTUS @KamalaHar...</td>\n",
       "      <td>2024-10-04 02:26:51</td>\n",
       "      <td>30</td>\n",
       "      <td>36</td>\n",
       "      <td>417</td>\n",
       "      <td>5</td>\n",
       "      <td>9640</td>\n",
       "      <td>2009-06-02 20:12:29+00:00</td>\n",
       "      <td>202753975</td>\n",
       "      <td>796</td>\n",
       "      <td>56350</td>\n",
       "      <td>False</td>\n",
       "      <td>True</td>\n",
       "    </tr>\n",
       "    <tr>\n",
       "      <th>4</th>\n",
       "      <td>@glennbeck GOP led House controls FEMA spendin...</td>\n",
       "      <td>2024-10-04 05:54:41</td>\n",
       "      <td>0</td>\n",
       "      <td>1</td>\n",
       "      <td>0</td>\n",
       "      <td>0</td>\n",
       "      <td>22</td>\n",
       "      <td>2021-06-27 11:50:26+00:00</td>\n",
       "      <td>519</td>\n",
       "      <td>37</td>\n",
       "      <td>156113</td>\n",
       "      <td>False</td>\n",
       "      <td>False</td>\n",
       "    </tr>\n",
       "  </tbody>\n",
       "</table>\n",
       "</div>"
      ],
      "text/plain": [
       "                                                text                  dt  \\\n",
       "0            @VivekGRamaswamy Biden is backing them? 2024-10-02 00:38:42   \n",
       "1  @BillAckman @POTUS @KamalaHarris @DNC One can ... 2024-10-04 01:44:44   \n",
       "2  @atensnut @BillAckman @POTUS @KamalaHarris @DN... 2024-10-04 02:25:35   \n",
       "3  @Raymond26773481 @BillAckman @POTUS @KamalaHar... 2024-10-04 02:26:51   \n",
       "4  @glennbeck GOP led House controls FEMA spendin... 2024-10-04 05:54:41   \n",
       "\n",
       "   replyCount  retweetCount  likeCount  quoteCount  viewCount  \\\n",
       "0         205           349       5043          18     216908   \n",
       "1         207           719       4343          16     130881   \n",
       "2          57            97       1176           9      17669   \n",
       "3          30            36        417           5       9640   \n",
       "4           0             1          0           0         22   \n",
       "\n",
       "               user_created  user_followers  user_following  user_tweets  \\\n",
       "0 2009-06-02 20:12:29+00:00       202752698             796        56345   \n",
       "1 2009-06-02 20:12:29+00:00       202754455             796        56350   \n",
       "2 2009-06-02 20:12:29+00:00       202747214             796        56373   \n",
       "3 2009-06-02 20:12:29+00:00       202753975             796        56350   \n",
       "4 2021-06-27 11:50:26+00:00             519              37       156113   \n",
       "\n",
       "   user_verified  user_blue  \n",
       "0          False       True  \n",
       "1          False       True  \n",
       "2          False       True  \n",
       "3          False       True  \n",
       "4          False      False  "
      ]
     },
     "execution_count": 4,
     "metadata": {},
     "output_type": "execute_result"
    }
   ],
   "source": [
    "df = pd.read_csv(\"data_small.csv\")\n",
    "df.dt = pd.to_datetime(df.dt)\n",
    "df.user_created = pd.to_datetime(df.user_created)\n",
    "df.head()"
   ]
  },
  {
   "cell_type": "code",
   "execution_count": 4,
   "id": "81bcaae8-623d-43c1-9d61-0ff3fa58d19b",
   "metadata": {
    "collapsed": true,
    "jupyter": {
     "outputs_hidden": true
    }
   },
   "outputs": [
    {
     "data": {
      "application/vnd.jupyter.widget-view+json": {
       "model_id": "dadf792ec2644c7e9ba1c42b3b755984",
       "version_major": 2,
       "version_minor": 0
      },
      "text/plain": [
       "Downloading config.json:   0%|          | 0.00/1.17k [00:00<?, ?B/s]"
      ]
     },
     "metadata": {},
     "output_type": "display_data"
    },
    {
     "data": {
      "application/vnd.jupyter.widget-view+json": {
       "model_id": "be95091773964d01b3e818a048351b91",
       "version_major": 2,
       "version_minor": 0
      },
      "text/plain": [
       "Downloading tokenizer_config.json:   0%|          | 0.00/409 [00:00<?, ?B/s]"
      ]
     },
     "metadata": {},
     "output_type": "display_data"
    },
    {
     "data": {
      "application/vnd.jupyter.widget-view+json": {
       "model_id": "3ec04bd8db42495fae2e5a7efcddbac8",
       "version_major": 2,
       "version_minor": 0
      },
      "text/plain": [
       "Downloading vocab.json:   0%|          | 0.00/780k [00:00<?, ?B/s]"
      ]
     },
     "metadata": {},
     "output_type": "display_data"
    },
    {
     "data": {
      "application/vnd.jupyter.widget-view+json": {
       "model_id": "056e6798fdd649f19b8b305771ace175",
       "version_major": 2,
       "version_minor": 0
      },
      "text/plain": [
       "Downloading merges.txt:   0%|          | 0.00/446k [00:00<?, ?B/s]"
      ]
     },
     "metadata": {},
     "output_type": "display_data"
    },
    {
     "data": {
      "application/vnd.jupyter.widget-view+json": {
       "model_id": "17c139bf01b74c03bd29d3652864243d",
       "version_major": 2,
       "version_minor": 0
      },
      "text/plain": [
       "Downloading tokenizer.json:   0%|          | 0.00/2.01M [00:00<?, ?B/s]"
      ]
     },
     "metadata": {},
     "output_type": "display_data"
    },
    {
     "data": {
      "application/vnd.jupyter.widget-view+json": {
       "model_id": "56710ab1254c4b1184532354fa3379a5",
       "version_major": 2,
       "version_minor": 0
      },
      "text/plain": [
       "Downloading special_tokens_map.json:   0%|          | 0.00/280 [00:00<?, ?B/s]"
      ]
     },
     "metadata": {},
     "output_type": "display_data"
    },
    {
     "data": {
      "application/vnd.jupyter.widget-view+json": {
       "model_id": "bf0cc4e6614a4bd1aa9b362dcb44555c",
       "version_major": 2,
       "version_minor": 0
      },
      "text/plain": [
       "Downloading pytorch_model.bin:   0%|          | 0.00/476M [00:00<?, ?B/s]"
      ]
     },
     "metadata": {},
     "output_type": "display_data"
    },
    {
     "name": "stderr",
     "output_type": "stream",
     "text": [
      "/home/ubuntu/code/.venv/lib/python3.10/site-packages/transformers/modeling_utils.py:367: FutureWarning: You are using `torch.load` with `weights_only=False` (the current default value), which uses the default pickle module implicitly. It is possible to construct malicious pickle data which will execute arbitrary code during unpickling (See https://github.com/pytorch/pytorch/blob/main/SECURITY.md#untrusted-models for more details). In a future release, the default value for `weights_only` will be flipped to `True`. This limits the functions that could be executed during unpickling. Arbitrary objects will no longer be allowed to be loaded via this mode unless they are explicitly allowlisted by the user via `torch.serialization.add_safe_globals`. We recommend you start setting `weights_only=True` for any use case where you don't have full control of the loaded file. Please open an issue on GitHub for any issues related to this experimental feature.\n",
      "  return torch.load(checkpoint_file, map_location=\"cpu\")\n"
     ]
    }
   ],
   "source": [
    "# MULTI-LABEL MODEL \n",
    "model = tweetnlp.load_model('emotion')"
   ]
  },
  {
   "cell_type": "code",
   "execution_count": 5,
   "id": "52a21b03-80c3-48d5-9270-e7582ba9b809",
   "metadata": {
    "collapsed": true,
    "jupyter": {
     "outputs_hidden": true
    }
   },
   "outputs": [
    {
     "data": {
      "application/vnd.jupyter.widget-view+json": {
       "model_id": "7c2bf960d19c48719c00e4daecae8d18",
       "version_major": 2,
       "version_minor": 0
      },
      "text/plain": [
       "  0%|          | 0/932159 [00:00<?, ?it/s]"
      ]
     },
     "metadata": {},
     "output_type": "display_data"
    },
    {
     "name": "stderr",
     "output_type": "stream",
     "text": [
      "IOPub message rate exceeded.\n",
      "The Jupyter server will temporarily stop sending output\n",
      "to the client in order to avoid crashing it.\n",
      "To change this limit, set the config variable\n",
      "`--ServerApp.iopub_msg_rate_limit`.\n",
      "\n",
      "Current values:\n",
      "ServerApp.iopub_msg_rate_limit=1000.0 (msgs/sec)\n",
      "ServerApp.rate_limit_window=3.0 (secs)\n",
      "\n",
      "IOPub message rate exceeded.\n",
      "The Jupyter server will temporarily stop sending output\n",
      "to the client in order to avoid crashing it.\n",
      "To change this limit, set the config variable\n",
      "`--ServerApp.iopub_msg_rate_limit`.\n",
      "\n",
      "Current values:\n",
      "ServerApp.iopub_msg_rate_limit=1000.0 (msgs/sec)\n",
      "ServerApp.rate_limit_window=3.0 (secs)\n",
      "\n",
      "IOPub message rate exceeded.\n",
      "The Jupyter server will temporarily stop sending output\n",
      "to the client in order to avoid crashing it.\n",
      "To change this limit, set the config variable\n",
      "`--ServerApp.iopub_msg_rate_limit`.\n",
      "\n",
      "Current values:\n",
      "ServerApp.iopub_msg_rate_limit=1000.0 (msgs/sec)\n",
      "ServerApp.rate_limit_window=3.0 (secs)\n",
      "\n",
      "IOPub message rate exceeded.\n",
      "The Jupyter server will temporarily stop sending output\n",
      "to the client in order to avoid crashing it.\n",
      "To change this limit, set the config variable\n",
      "`--ServerApp.iopub_msg_rate_limit`.\n",
      "\n",
      "Current values:\n",
      "ServerApp.iopub_msg_rate_limit=1000.0 (msgs/sec)\n",
      "ServerApp.rate_limit_window=3.0 (secs)\n",
      "\n",
      "IOPub message rate exceeded.\n",
      "The Jupyter server will temporarily stop sending output\n",
      "to the client in order to avoid crashing it.\n",
      "To change this limit, set the config variable\n",
      "`--ServerApp.iopub_msg_rate_limit`.\n",
      "\n",
      "Current values:\n",
      "ServerApp.iopub_msg_rate_limit=1000.0 (msgs/sec)\n",
      "ServerApp.rate_limit_window=3.0 (secs)\n",
      "\n",
      "IOPub message rate exceeded.\n",
      "The Jupyter server will temporarily stop sending output\n",
      "to the client in order to avoid crashing it.\n",
      "To change this limit, set the config variable\n",
      "`--ServerApp.iopub_msg_rate_limit`.\n",
      "\n",
      "Current values:\n",
      "ServerApp.iopub_msg_rate_limit=1000.0 (msgs/sec)\n",
      "ServerApp.rate_limit_window=3.0 (secs)\n",
      "\n",
      "IOPub message rate exceeded.\n",
      "The Jupyter server will temporarily stop sending output\n",
      "to the client in order to avoid crashing it.\n",
      "To change this limit, set the config variable\n",
      "`--ServerApp.iopub_msg_rate_limit`.\n",
      "\n",
      "Current values:\n",
      "ServerApp.iopub_msg_rate_limit=1000.0 (msgs/sec)\n",
      "ServerApp.rate_limit_window=3.0 (secs)\n",
      "\n"
     ]
    }
   ],
   "source": [
    "result = []\n",
    "for x in tqdm(df['text'].values):\n",
    "    result.append(model.emotion(x, return_probability=True))"
   ]
  },
  {
   "cell_type": "code",
   "execution_count": 6,
   "id": "8fcce4ba-1143-481f-86ff-6a73e6e73039",
   "metadata": {},
   "outputs": [
    {
     "data": {
      "text/plain": [
       "932159"
      ]
     },
     "execution_count": 6,
     "metadata": {},
     "output_type": "execute_result"
    }
   ],
   "source": [
    "len(result)"
   ]
  },
  {
   "cell_type": "code",
   "execution_count": 7,
   "id": "bfbd23c2-ae6d-48ad-96b3-387db38f8723",
   "metadata": {},
   "outputs": [
    {
     "data": {
      "text/html": [
       "<div>\n",
       "<style scoped>\n",
       "    .dataframe tbody tr th:only-of-type {\n",
       "        vertical-align: middle;\n",
       "    }\n",
       "\n",
       "    .dataframe tbody tr th {\n",
       "        vertical-align: top;\n",
       "    }\n",
       "\n",
       "    .dataframe thead th {\n",
       "        text-align: right;\n",
       "    }\n",
       "</style>\n",
       "<table border=\"1\" class=\"dataframe\">\n",
       "  <thead>\n",
       "    <tr style=\"text-align: right;\">\n",
       "      <th></th>\n",
       "      <th>label</th>\n",
       "      <th>probability.anger</th>\n",
       "      <th>probability.anticipation</th>\n",
       "      <th>probability.disgust</th>\n",
       "      <th>probability.fear</th>\n",
       "      <th>probability.joy</th>\n",
       "      <th>probability.love</th>\n",
       "      <th>probability.optimism</th>\n",
       "      <th>probability.pessimism</th>\n",
       "      <th>probability.sadness</th>\n",
       "      <th>probability.surprise</th>\n",
       "      <th>probability.trust</th>\n",
       "    </tr>\n",
       "  </thead>\n",
       "  <tbody>\n",
       "    <tr>\n",
       "      <th>0</th>\n",
       "      <td>anticipation</td>\n",
       "      <td>0.037707</td>\n",
       "      <td>0.698641</td>\n",
       "      <td>0.070142</td>\n",
       "      <td>0.025636</td>\n",
       "      <td>0.017918</td>\n",
       "      <td>0.002218</td>\n",
       "      <td>0.020956</td>\n",
       "      <td>0.024805</td>\n",
       "      <td>0.023594</td>\n",
       "      <td>0.062430</td>\n",
       "      <td>0.015954</td>\n",
       "    </tr>\n",
       "    <tr>\n",
       "      <th>1</th>\n",
       "      <td>disgust</td>\n",
       "      <td>0.239717</td>\n",
       "      <td>0.238892</td>\n",
       "      <td>0.362939</td>\n",
       "      <td>0.017162</td>\n",
       "      <td>0.007630</td>\n",
       "      <td>0.000967</td>\n",
       "      <td>0.037035</td>\n",
       "      <td>0.036575</td>\n",
       "      <td>0.033834</td>\n",
       "      <td>0.016798</td>\n",
       "      <td>0.008452</td>\n",
       "    </tr>\n",
       "    <tr>\n",
       "      <th>2</th>\n",
       "      <td>anticipation</td>\n",
       "      <td>0.019393</td>\n",
       "      <td>0.417079</td>\n",
       "      <td>0.021595</td>\n",
       "      <td>0.003200</td>\n",
       "      <td>0.279863</td>\n",
       "      <td>0.005338</td>\n",
       "      <td>0.180280</td>\n",
       "      <td>0.008938</td>\n",
       "      <td>0.013946</td>\n",
       "      <td>0.024004</td>\n",
       "      <td>0.026365</td>\n",
       "    </tr>\n",
       "    <tr>\n",
       "      <th>3</th>\n",
       "      <td>joy</td>\n",
       "      <td>0.005584</td>\n",
       "      <td>0.069949</td>\n",
       "      <td>0.008051</td>\n",
       "      <td>0.002952</td>\n",
       "      <td>0.784418</td>\n",
       "      <td>0.006903</td>\n",
       "      <td>0.021302</td>\n",
       "      <td>0.001136</td>\n",
       "      <td>0.001440</td>\n",
       "      <td>0.090289</td>\n",
       "      <td>0.007976</td>\n",
       "    </tr>\n",
       "    <tr>\n",
       "      <th>4</th>\n",
       "      <td>disgust</td>\n",
       "      <td>0.460087</td>\n",
       "      <td>0.006100</td>\n",
       "      <td>0.504464</td>\n",
       "      <td>0.005070</td>\n",
       "      <td>0.000436</td>\n",
       "      <td>0.000111</td>\n",
       "      <td>0.000805</td>\n",
       "      <td>0.006850</td>\n",
       "      <td>0.013276</td>\n",
       "      <td>0.002398</td>\n",
       "      <td>0.000405</td>\n",
       "    </tr>\n",
       "  </tbody>\n",
       "</table>\n",
       "</div>"
      ],
      "text/plain": [
       "          label  probability.anger  probability.anticipation  \\\n",
       "0  anticipation           0.037707                  0.698641   \n",
       "1       disgust           0.239717                  0.238892   \n",
       "2  anticipation           0.019393                  0.417079   \n",
       "3           joy           0.005584                  0.069949   \n",
       "4       disgust           0.460087                  0.006100   \n",
       "\n",
       "   probability.disgust  probability.fear  probability.joy  probability.love  \\\n",
       "0             0.070142          0.025636         0.017918          0.002218   \n",
       "1             0.362939          0.017162         0.007630          0.000967   \n",
       "2             0.021595          0.003200         0.279863          0.005338   \n",
       "3             0.008051          0.002952         0.784418          0.006903   \n",
       "4             0.504464          0.005070         0.000436          0.000111   \n",
       "\n",
       "   probability.optimism  probability.pessimism  probability.sadness  \\\n",
       "0              0.020956               0.024805             0.023594   \n",
       "1              0.037035               0.036575             0.033834   \n",
       "2              0.180280               0.008938             0.013946   \n",
       "3              0.021302               0.001136             0.001440   \n",
       "4              0.000805               0.006850             0.013276   \n",
       "\n",
       "   probability.surprise  probability.trust  \n",
       "0              0.062430           0.015954  \n",
       "1              0.016798           0.008452  \n",
       "2              0.024004           0.026365  \n",
       "3              0.090289           0.007976  \n",
       "4              0.002398           0.000405  "
      ]
     },
     "execution_count": 7,
     "metadata": {},
     "output_type": "execute_result"
    }
   ],
   "source": [
    "result_df = pd.json_normalize(result)\n",
    "result_df.to_csv('data_emotion.csv', index=False)\n",
    "result_df.head()"
   ]
  },
  {
   "cell_type": "code",
   "execution_count": 5,
   "id": "48cc4323-642e-4cf3-8cd7-5c80ccb2a906",
   "metadata": {},
   "outputs": [
    {
     "data": {
      "text/plain": [
       "Index(['label', 'probability.anger', 'probability.anticipation',\n",
       "       'probability.disgust', 'probability.fear', 'probability.joy',\n",
       "       'probability.love', 'probability.optimism', 'probability.pessimism',\n",
       "       'probability.sadness', 'probability.surprise', 'probability.trust'],\n",
       "      dtype='object')"
      ]
     },
     "execution_count": 5,
     "metadata": {},
     "output_type": "execute_result"
    }
   ],
   "source": [
    "pd.read_csv('data_emotion.csv').columns"
   ]
  },
  {
   "cell_type": "code",
   "execution_count": null,
   "id": "cf28e2d6-1af0-4768-837d-69263b99aacb",
   "metadata": {},
   "outputs": [],
   "source": []
  }
 ],
 "metadata": {
  "kernelspec": {
   "display_name": "Python 3 (ipykernel)",
   "language": "python",
   "name": "python3"
  },
  "language_info": {
   "codemirror_mode": {
    "name": "ipython",
    "version": 3
   },
   "file_extension": ".py",
   "mimetype": "text/x-python",
   "name": "python",
   "nbconvert_exporter": "python",
   "pygments_lexer": "ipython3",
   "version": "3.10.12"
  }
 },
 "nbformat": 4,
 "nbformat_minor": 5
}
