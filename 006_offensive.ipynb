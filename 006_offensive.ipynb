{
 "cells": [
  {
   "cell_type": "code",
   "execution_count": 1,
   "id": "fba416d6-1477-4c49-b2ee-35a3c2923dba",
   "metadata": {},
   "outputs": [],
   "source": [
    "import tweetnlp\n",
    "import pandas as pd\n",
    "from tqdm.notebook import tqdm"
   ]
  },
  {
   "cell_type": "code",
   "execution_count": 2,
   "id": "ca84e491-376d-49e9-a260-bf027a99fd91",
   "metadata": {},
   "outputs": [
    {
     "data": {
      "text/html": [
       "<div>\n",
       "<style scoped>\n",
       "    .dataframe tbody tr th:only-of-type {\n",
       "        vertical-align: middle;\n",
       "    }\n",
       "\n",
       "    .dataframe tbody tr th {\n",
       "        vertical-align: top;\n",
       "    }\n",
       "\n",
       "    .dataframe thead th {\n",
       "        text-align: right;\n",
       "    }\n",
       "</style>\n",
       "<table border=\"1\" class=\"dataframe\">\n",
       "  <thead>\n",
       "    <tr style=\"text-align: right;\">\n",
       "      <th></th>\n",
       "      <th>text</th>\n",
       "      <th>dt</th>\n",
       "      <th>replyCount</th>\n",
       "      <th>retweetCount</th>\n",
       "      <th>likeCount</th>\n",
       "      <th>quoteCount</th>\n",
       "      <th>viewCount</th>\n",
       "      <th>user_created</th>\n",
       "      <th>user_followers</th>\n",
       "      <th>user_following</th>\n",
       "      <th>user_tweets</th>\n",
       "      <th>user_verified</th>\n",
       "      <th>user_blue</th>\n",
       "    </tr>\n",
       "  </thead>\n",
       "  <tbody>\n",
       "    <tr>\n",
       "      <th>0</th>\n",
       "      <td>@VivekGRamaswamy Biden is backing them?</td>\n",
       "      <td>2024-10-02 00:38:42</td>\n",
       "      <td>205</td>\n",
       "      <td>349</td>\n",
       "      <td>5043</td>\n",
       "      <td>18</td>\n",
       "      <td>216908</td>\n",
       "      <td>2009-06-02 20:12:29+00:00</td>\n",
       "      <td>202752698</td>\n",
       "      <td>796</td>\n",
       "      <td>56345</td>\n",
       "      <td>False</td>\n",
       "      <td>True</td>\n",
       "    </tr>\n",
       "    <tr>\n",
       "      <th>1</th>\n",
       "      <td>@BillAckman @POTUS @KamalaHarris @DNC One can ...</td>\n",
       "      <td>2024-10-04 01:44:44</td>\n",
       "      <td>207</td>\n",
       "      <td>719</td>\n",
       "      <td>4343</td>\n",
       "      <td>16</td>\n",
       "      <td>130881</td>\n",
       "      <td>2009-06-02 20:12:29+00:00</td>\n",
       "      <td>202754455</td>\n",
       "      <td>796</td>\n",
       "      <td>56350</td>\n",
       "      <td>False</td>\n",
       "      <td>True</td>\n",
       "    </tr>\n",
       "    <tr>\n",
       "      <th>2</th>\n",
       "      <td>@atensnut @BillAckman @POTUS @KamalaHarris @DN...</td>\n",
       "      <td>2024-10-04 02:25:35</td>\n",
       "      <td>57</td>\n",
       "      <td>97</td>\n",
       "      <td>1176</td>\n",
       "      <td>9</td>\n",
       "      <td>17669</td>\n",
       "      <td>2009-06-02 20:12:29+00:00</td>\n",
       "      <td>202747214</td>\n",
       "      <td>796</td>\n",
       "      <td>56373</td>\n",
       "      <td>False</td>\n",
       "      <td>True</td>\n",
       "    </tr>\n",
       "    <tr>\n",
       "      <th>3</th>\n",
       "      <td>@Raymond26773481 @BillAckman @POTUS @KamalaHar...</td>\n",
       "      <td>2024-10-04 02:26:51</td>\n",
       "      <td>30</td>\n",
       "      <td>36</td>\n",
       "      <td>417</td>\n",
       "      <td>5</td>\n",
       "      <td>9640</td>\n",
       "      <td>2009-06-02 20:12:29+00:00</td>\n",
       "      <td>202753975</td>\n",
       "      <td>796</td>\n",
       "      <td>56350</td>\n",
       "      <td>False</td>\n",
       "      <td>True</td>\n",
       "    </tr>\n",
       "    <tr>\n",
       "      <th>4</th>\n",
       "      <td>@glennbeck GOP led House controls FEMA spendin...</td>\n",
       "      <td>2024-10-04 05:54:41</td>\n",
       "      <td>0</td>\n",
       "      <td>1</td>\n",
       "      <td>0</td>\n",
       "      <td>0</td>\n",
       "      <td>22</td>\n",
       "      <td>2021-06-27 11:50:26+00:00</td>\n",
       "      <td>519</td>\n",
       "      <td>37</td>\n",
       "      <td>156113</td>\n",
       "      <td>False</td>\n",
       "      <td>False</td>\n",
       "    </tr>\n",
       "  </tbody>\n",
       "</table>\n",
       "</div>"
      ],
      "text/plain": [
       "                                                text                  dt  \\\n",
       "0            @VivekGRamaswamy Biden is backing them? 2024-10-02 00:38:42   \n",
       "1  @BillAckman @POTUS @KamalaHarris @DNC One can ... 2024-10-04 01:44:44   \n",
       "2  @atensnut @BillAckman @POTUS @KamalaHarris @DN... 2024-10-04 02:25:35   \n",
       "3  @Raymond26773481 @BillAckman @POTUS @KamalaHar... 2024-10-04 02:26:51   \n",
       "4  @glennbeck GOP led House controls FEMA spendin... 2024-10-04 05:54:41   \n",
       "\n",
       "   replyCount  retweetCount  likeCount  quoteCount  viewCount  \\\n",
       "0         205           349       5043          18     216908   \n",
       "1         207           719       4343          16     130881   \n",
       "2          57            97       1176           9      17669   \n",
       "3          30            36        417           5       9640   \n",
       "4           0             1          0           0         22   \n",
       "\n",
       "               user_created  user_followers  user_following  user_tweets  \\\n",
       "0 2009-06-02 20:12:29+00:00       202752698             796        56345   \n",
       "1 2009-06-02 20:12:29+00:00       202754455             796        56350   \n",
       "2 2009-06-02 20:12:29+00:00       202747214             796        56373   \n",
       "3 2009-06-02 20:12:29+00:00       202753975             796        56350   \n",
       "4 2021-06-27 11:50:26+00:00             519              37       156113   \n",
       "\n",
       "   user_verified  user_blue  \n",
       "0          False       True  \n",
       "1          False       True  \n",
       "2          False       True  \n",
       "3          False       True  \n",
       "4          False      False  "
      ]
     },
     "execution_count": 2,
     "metadata": {},
     "output_type": "execute_result"
    }
   ],
   "source": [
    "df = pd.read_csv(\"data_small.csv\")\n",
    "df.dt = pd.to_datetime(df.dt)\n",
    "df.user_created = pd.to_datetime(df.user_created)\n",
    "df.head()"
   ]
  },
  {
   "cell_type": "code",
   "execution_count": 3,
   "id": "0d351745-4279-40e8-b328-570207745515",
   "metadata": {
    "collapsed": true,
    "jupyter": {
     "outputs_hidden": true
    }
   },
   "outputs": [
    {
     "data": {
      "application/vnd.jupyter.widget-view+json": {
       "model_id": "12b72a58e8cb419ca1825176a17fab80",
       "version_major": 2,
       "version_minor": 0
      },
      "text/plain": [
       "Downloading config.json:   0%|          | 0.00/725 [00:00<?, ?B/s]"
      ]
     },
     "metadata": {},
     "output_type": "display_data"
    },
    {
     "data": {
      "application/vnd.jupyter.widget-view+json": {
       "model_id": "af78b012bbaf4e97b814389571e65337",
       "version_major": 2,
       "version_minor": 0
      },
      "text/plain": [
       "Downloading vocab.json:   0%|          | 0.00/878k [00:00<?, ?B/s]"
      ]
     },
     "metadata": {},
     "output_type": "display_data"
    },
    {
     "data": {
      "application/vnd.jupyter.widget-view+json": {
       "model_id": "e9dd0514cf11473495708459f3e9f065",
       "version_major": 2,
       "version_minor": 0
      },
      "text/plain": [
       "Downloading merges.txt:   0%|          | 0.00/446k [00:00<?, ?B/s]"
      ]
     },
     "metadata": {},
     "output_type": "display_data"
    },
    {
     "data": {
      "application/vnd.jupyter.widget-view+json": {
       "model_id": "fd8175dece934c9aa55e1e3fb649c56d",
       "version_major": 2,
       "version_minor": 0
      },
      "text/plain": [
       "Downloading special_tokens_map.json:   0%|          | 0.00/150 [00:00<?, ?B/s]"
      ]
     },
     "metadata": {},
     "output_type": "display_data"
    },
    {
     "data": {
      "application/vnd.jupyter.widget-view+json": {
       "model_id": "fa2757ae714148848f0412931fb4075e",
       "version_major": 2,
       "version_minor": 0
      },
      "text/plain": [
       "Downloading pytorch_model.bin:   0%|          | 0.00/476M [00:00<?, ?B/s]"
      ]
     },
     "metadata": {},
     "output_type": "display_data"
    },
    {
     "name": "stderr",
     "output_type": "stream",
     "text": [
      "/home/ubuntu/code/.venv/lib/python3.10/site-packages/transformers/modeling_utils.py:367: FutureWarning: You are using `torch.load` with `weights_only=False` (the current default value), which uses the default pickle module implicitly. It is possible to construct malicious pickle data which will execute arbitrary code during unpickling (See https://github.com/pytorch/pytorch/blob/main/SECURITY.md#untrusted-models for more details). In a future release, the default value for `weights_only` will be flipped to `True`. This limits the functions that could be executed during unpickling. Arbitrary objects will no longer be allowed to be loaded via this mode unless they are explicitly allowlisted by the user via `torch.serialization.add_safe_globals`. We recommend you start setting `weights_only=True` for any use case where you don't have full control of the loaded file. Please open an issue on GitHub for any issues related to this experimental feature.\n",
      "  return torch.load(checkpoint_file, map_location=\"cpu\")\n"
     ]
    }
   ],
   "source": [
    "model = tweetnlp.load_model('offensive')"
   ]
  },
  {
   "cell_type": "code",
   "execution_count": 4,
   "id": "9157477b-c97f-41ca-bcdd-e0d68f9ea027",
   "metadata": {
    "collapsed": true,
    "jupyter": {
     "outputs_hidden": true
    }
   },
   "outputs": [
    {
     "data": {
      "application/vnd.jupyter.widget-view+json": {
       "model_id": "0dd164168d4e4625823f55ec68d780a9",
       "version_major": 2,
       "version_minor": 0
      },
      "text/plain": [
       "  0%|          | 0/932159 [00:00<?, ?it/s]"
      ]
     },
     "metadata": {},
     "output_type": "display_data"
    },
    {
     "name": "stderr",
     "output_type": "stream",
     "text": [
      "IOPub message rate exceeded.\n",
      "The Jupyter server will temporarily stop sending output\n",
      "to the client in order to avoid crashing it.\n",
      "To change this limit, set the config variable\n",
      "`--ServerApp.iopub_msg_rate_limit`.\n",
      "\n",
      "Current values:\n",
      "ServerApp.iopub_msg_rate_limit=1000.0 (msgs/sec)\n",
      "ServerApp.rate_limit_window=3.0 (secs)\n",
      "\n",
      "IOPub message rate exceeded.\n",
      "The Jupyter server will temporarily stop sending output\n",
      "to the client in order to avoid crashing it.\n",
      "To change this limit, set the config variable\n",
      "`--ServerApp.iopub_msg_rate_limit`.\n",
      "\n",
      "Current values:\n",
      "ServerApp.iopub_msg_rate_limit=1000.0 (msgs/sec)\n",
      "ServerApp.rate_limit_window=3.0 (secs)\n",
      "\n",
      "IOPub message rate exceeded.\n",
      "The Jupyter server will temporarily stop sending output\n",
      "to the client in order to avoid crashing it.\n",
      "To change this limit, set the config variable\n",
      "`--ServerApp.iopub_msg_rate_limit`.\n",
      "\n",
      "Current values:\n",
      "ServerApp.iopub_msg_rate_limit=1000.0 (msgs/sec)\n",
      "ServerApp.rate_limit_window=3.0 (secs)\n",
      "\n",
      "IOPub message rate exceeded.\n",
      "The Jupyter server will temporarily stop sending output\n",
      "to the client in order to avoid crashing it.\n",
      "To change this limit, set the config variable\n",
      "`--ServerApp.iopub_msg_rate_limit`.\n",
      "\n",
      "Current values:\n",
      "ServerApp.iopub_msg_rate_limit=1000.0 (msgs/sec)\n",
      "ServerApp.rate_limit_window=3.0 (secs)\n",
      "\n",
      "IOPub message rate exceeded.\n",
      "The Jupyter server will temporarily stop sending output\n",
      "to the client in order to avoid crashing it.\n",
      "To change this limit, set the config variable\n",
      "`--ServerApp.iopub_msg_rate_limit`.\n",
      "\n",
      "Current values:\n",
      "ServerApp.iopub_msg_rate_limit=1000.0 (msgs/sec)\n",
      "ServerApp.rate_limit_window=3.0 (secs)\n",
      "\n",
      "IOPub message rate exceeded.\n",
      "The Jupyter server will temporarily stop sending output\n",
      "to the client in order to avoid crashing it.\n",
      "To change this limit, set the config variable\n",
      "`--ServerApp.iopub_msg_rate_limit`.\n",
      "\n",
      "Current values:\n",
      "ServerApp.iopub_msg_rate_limit=1000.0 (msgs/sec)\n",
      "ServerApp.rate_limit_window=3.0 (secs)\n",
      "\n",
      "IOPub message rate exceeded.\n",
      "The Jupyter server will temporarily stop sending output\n",
      "to the client in order to avoid crashing it.\n",
      "To change this limit, set the config variable\n",
      "`--ServerApp.iopub_msg_rate_limit`.\n",
      "\n",
      "Current values:\n",
      "ServerApp.iopub_msg_rate_limit=1000.0 (msgs/sec)\n",
      "ServerApp.rate_limit_window=3.0 (secs)\n",
      "\n"
     ]
    }
   ],
   "source": [
    "result = []\n",
    "for x in tqdm(df['text'].values):\n",
    "    result.append(model.offensive(x, return_probability=True))"
   ]
  },
  {
   "cell_type": "code",
   "execution_count": 5,
   "id": "200d630e-27f4-4dc5-9e58-6f98aaeeb860",
   "metadata": {},
   "outputs": [
    {
     "data": {
      "text/plain": [
       "932159"
      ]
     },
     "execution_count": 5,
     "metadata": {},
     "output_type": "execute_result"
    }
   ],
   "source": [
    "len(result)"
   ]
  },
  {
   "cell_type": "code",
   "execution_count": 6,
   "id": "c449606f-e5b5-47ab-8fbd-a0d287465fdb",
   "metadata": {},
   "outputs": [
    {
     "data": {
      "text/html": [
       "<div>\n",
       "<style scoped>\n",
       "    .dataframe tbody tr th:only-of-type {\n",
       "        vertical-align: middle;\n",
       "    }\n",
       "\n",
       "    .dataframe tbody tr th {\n",
       "        vertical-align: top;\n",
       "    }\n",
       "\n",
       "    .dataframe thead th {\n",
       "        text-align: right;\n",
       "    }\n",
       "</style>\n",
       "<table border=\"1\" class=\"dataframe\">\n",
       "  <thead>\n",
       "    <tr style=\"text-align: right;\">\n",
       "      <th></th>\n",
       "      <th>label</th>\n",
       "      <th>probability.non-offensive</th>\n",
       "      <th>probability.offensive</th>\n",
       "    </tr>\n",
       "  </thead>\n",
       "  <tbody>\n",
       "    <tr>\n",
       "      <th>0</th>\n",
       "      <td>non-offensive</td>\n",
       "      <td>0.924836</td>\n",
       "      <td>0.075164</td>\n",
       "    </tr>\n",
       "    <tr>\n",
       "      <th>1</th>\n",
       "      <td>non-offensive</td>\n",
       "      <td>0.826859</td>\n",
       "      <td>0.173141</td>\n",
       "    </tr>\n",
       "    <tr>\n",
       "      <th>2</th>\n",
       "      <td>non-offensive</td>\n",
       "      <td>0.924545</td>\n",
       "      <td>0.075455</td>\n",
       "    </tr>\n",
       "    <tr>\n",
       "      <th>3</th>\n",
       "      <td>non-offensive</td>\n",
       "      <td>0.925957</td>\n",
       "      <td>0.074043</td>\n",
       "    </tr>\n",
       "    <tr>\n",
       "      <th>4</th>\n",
       "      <td>non-offensive</td>\n",
       "      <td>0.839052</td>\n",
       "      <td>0.160948</td>\n",
       "    </tr>\n",
       "  </tbody>\n",
       "</table>\n",
       "</div>"
      ],
      "text/plain": [
       "           label  probability.non-offensive  probability.offensive\n",
       "0  non-offensive                   0.924836               0.075164\n",
       "1  non-offensive                   0.826859               0.173141\n",
       "2  non-offensive                   0.924545               0.075455\n",
       "3  non-offensive                   0.925957               0.074043\n",
       "4  non-offensive                   0.839052               0.160948"
      ]
     },
     "execution_count": 6,
     "metadata": {},
     "output_type": "execute_result"
    }
   ],
   "source": [
    "result_df = pd.json_normalize(result)\n",
    "result_df.to_csv('data_offensive.csv', index=False)\n",
    "result_df.head()"
   ]
  },
  {
   "cell_type": "code",
   "execution_count": null,
   "id": "21ffe2d8-8dd0-4f4b-bc18-77bcde4b447f",
   "metadata": {},
   "outputs": [],
   "source": []
  }
 ],
 "metadata": {
  "kernelspec": {
   "display_name": "Python 3 (ipykernel)",
   "language": "python",
   "name": "python3"
  },
  "language_info": {
   "codemirror_mode": {
    "name": "ipython",
    "version": 3
   },
   "file_extension": ".py",
   "mimetype": "text/x-python",
   "name": "python",
   "nbconvert_exporter": "python",
   "pygments_lexer": "ipython3",
   "version": "3.10.12"
  }
 },
 "nbformat": 4,
 "nbformat_minor": 5
}
