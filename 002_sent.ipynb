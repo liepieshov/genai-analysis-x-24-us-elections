{
 "cells": [
  {
   "cell_type": "code",
   "execution_count": 19,
   "id": "baf83dfe-26c6-4cc4-983e-edc745aecd72",
   "metadata": {},
   "outputs": [],
   "source": [
    "# 002\n",
    "import tweetnlp\n",
    "import pandas as pd\n",
    "import numpy as np"
   ]
  },
  {
   "cell_type": "code",
   "execution_count": 6,
   "id": "169a447d-d962-482b-85a0-ff2b059278bf",
   "metadata": {},
   "outputs": [],
   "source": [
    "from tqdm.notebook import tqdm"
   ]
  },
  {
   "cell_type": "code",
   "execution_count": 2,
   "id": "6d2b205d-54c9-4bd3-8e0d-057d7c54848e",
   "metadata": {},
   "outputs": [],
   "source": [
    "df = pd.read_csv(\"data_small.csv\")"
   ]
  },
  {
   "cell_type": "code",
   "execution_count": 3,
   "id": "e7ccc218-0096-452b-a4d4-78e71cad2d28",
   "metadata": {},
   "outputs": [],
   "source": [
    "df.dt = pd.to_datetime(df.dt)\n",
    "df.user_created = pd.to_datetime(df.user_created)"
   ]
  },
  {
   "cell_type": "code",
   "execution_count": 4,
   "id": "bdd811ee-e7b5-473c-ae62-ddbae84936f3",
   "metadata": {},
   "outputs": [
    {
     "data": {
      "text/html": [
       "<div>\n",
       "<style scoped>\n",
       "    .dataframe tbody tr th:only-of-type {\n",
       "        vertical-align: middle;\n",
       "    }\n",
       "\n",
       "    .dataframe tbody tr th {\n",
       "        vertical-align: top;\n",
       "    }\n",
       "\n",
       "    .dataframe thead th {\n",
       "        text-align: right;\n",
       "    }\n",
       "</style>\n",
       "<table border=\"1\" class=\"dataframe\">\n",
       "  <thead>\n",
       "    <tr style=\"text-align: right;\">\n",
       "      <th></th>\n",
       "      <th>text</th>\n",
       "      <th>dt</th>\n",
       "      <th>replyCount</th>\n",
       "      <th>retweetCount</th>\n",
       "      <th>likeCount</th>\n",
       "      <th>quoteCount</th>\n",
       "      <th>viewCount</th>\n",
       "      <th>user_created</th>\n",
       "      <th>user_followers</th>\n",
       "      <th>user_following</th>\n",
       "      <th>user_tweets</th>\n",
       "      <th>user_verified</th>\n",
       "      <th>user_blue</th>\n",
       "    </tr>\n",
       "  </thead>\n",
       "  <tbody>\n",
       "    <tr>\n",
       "      <th>0</th>\n",
       "      <td>@VivekGRamaswamy Biden is backing them?</td>\n",
       "      <td>2024-10-02 00:38:42</td>\n",
       "      <td>205</td>\n",
       "      <td>349</td>\n",
       "      <td>5043</td>\n",
       "      <td>18</td>\n",
       "      <td>216908</td>\n",
       "      <td>2009-06-02 20:12:29+00:00</td>\n",
       "      <td>202752698</td>\n",
       "      <td>796</td>\n",
       "      <td>56345</td>\n",
       "      <td>False</td>\n",
       "      <td>True</td>\n",
       "    </tr>\n",
       "    <tr>\n",
       "      <th>1</th>\n",
       "      <td>@BillAckman @POTUS @KamalaHarris @DNC One can ...</td>\n",
       "      <td>2024-10-04 01:44:44</td>\n",
       "      <td>207</td>\n",
       "      <td>719</td>\n",
       "      <td>4343</td>\n",
       "      <td>16</td>\n",
       "      <td>130881</td>\n",
       "      <td>2009-06-02 20:12:29+00:00</td>\n",
       "      <td>202754455</td>\n",
       "      <td>796</td>\n",
       "      <td>56350</td>\n",
       "      <td>False</td>\n",
       "      <td>True</td>\n",
       "    </tr>\n",
       "    <tr>\n",
       "      <th>2</th>\n",
       "      <td>@atensnut @BillAckman @POTUS @KamalaHarris @DN...</td>\n",
       "      <td>2024-10-04 02:25:35</td>\n",
       "      <td>57</td>\n",
       "      <td>97</td>\n",
       "      <td>1176</td>\n",
       "      <td>9</td>\n",
       "      <td>17669</td>\n",
       "      <td>2009-06-02 20:12:29+00:00</td>\n",
       "      <td>202747214</td>\n",
       "      <td>796</td>\n",
       "      <td>56373</td>\n",
       "      <td>False</td>\n",
       "      <td>True</td>\n",
       "    </tr>\n",
       "    <tr>\n",
       "      <th>3</th>\n",
       "      <td>@Raymond26773481 @BillAckman @POTUS @KamalaHar...</td>\n",
       "      <td>2024-10-04 02:26:51</td>\n",
       "      <td>30</td>\n",
       "      <td>36</td>\n",
       "      <td>417</td>\n",
       "      <td>5</td>\n",
       "      <td>9640</td>\n",
       "      <td>2009-06-02 20:12:29+00:00</td>\n",
       "      <td>202753975</td>\n",
       "      <td>796</td>\n",
       "      <td>56350</td>\n",
       "      <td>False</td>\n",
       "      <td>True</td>\n",
       "    </tr>\n",
       "    <tr>\n",
       "      <th>4</th>\n",
       "      <td>@glennbeck GOP led House controls FEMA spendin...</td>\n",
       "      <td>2024-10-04 05:54:41</td>\n",
       "      <td>0</td>\n",
       "      <td>1</td>\n",
       "      <td>0</td>\n",
       "      <td>0</td>\n",
       "      <td>22</td>\n",
       "      <td>2021-06-27 11:50:26+00:00</td>\n",
       "      <td>519</td>\n",
       "      <td>37</td>\n",
       "      <td>156113</td>\n",
       "      <td>False</td>\n",
       "      <td>False</td>\n",
       "    </tr>\n",
       "  </tbody>\n",
       "</table>\n",
       "</div>"
      ],
      "text/plain": [
       "                                                text                  dt  \\\n",
       "0            @VivekGRamaswamy Biden is backing them? 2024-10-02 00:38:42   \n",
       "1  @BillAckman @POTUS @KamalaHarris @DNC One can ... 2024-10-04 01:44:44   \n",
       "2  @atensnut @BillAckman @POTUS @KamalaHarris @DN... 2024-10-04 02:25:35   \n",
       "3  @Raymond26773481 @BillAckman @POTUS @KamalaHar... 2024-10-04 02:26:51   \n",
       "4  @glennbeck GOP led House controls FEMA spendin... 2024-10-04 05:54:41   \n",
       "\n",
       "   replyCount  retweetCount  likeCount  quoteCount  viewCount  \\\n",
       "0         205           349       5043          18     216908   \n",
       "1         207           719       4343          16     130881   \n",
       "2          57            97       1176           9      17669   \n",
       "3          30            36        417           5       9640   \n",
       "4           0             1          0           0         22   \n",
       "\n",
       "               user_created  user_followers  user_following  user_tweets  \\\n",
       "0 2009-06-02 20:12:29+00:00       202752698             796        56345   \n",
       "1 2009-06-02 20:12:29+00:00       202754455             796        56350   \n",
       "2 2009-06-02 20:12:29+00:00       202747214             796        56373   \n",
       "3 2009-06-02 20:12:29+00:00       202753975             796        56350   \n",
       "4 2021-06-27 11:50:26+00:00             519              37       156113   \n",
       "\n",
       "   user_verified  user_blue  \n",
       "0          False       True  \n",
       "1          False       True  \n",
       "2          False       True  \n",
       "3          False       True  \n",
       "4          False      False  "
      ]
     },
     "execution_count": 4,
     "metadata": {},
     "output_type": "execute_result"
    }
   ],
   "source": [
    "df.head()"
   ]
  },
  {
   "cell_type": "code",
   "execution_count": 5,
   "id": "3e2a4330-d068-4f5a-9bf3-bf1c209c5a42",
   "metadata": {
    "collapsed": true,
    "jupyter": {
     "outputs_hidden": true
    },
    "scrolled": true
   },
   "outputs": [
    {
     "data": {
      "application/vnd.jupyter.widget-view+json": {
       "model_id": "9c9ac8153a2b4a10856a1a4ea10df771",
       "version_major": 2,
       "version_minor": 0
      },
      "text/plain": [
       "Downloading config.json:   0%|          | 0.00/929 [00:00<?, ?B/s]"
      ]
     },
     "metadata": {},
     "output_type": "display_data"
    },
    {
     "data": {
      "application/vnd.jupyter.widget-view+json": {
       "model_id": "5bc49c267588471c9a7127815ecaff56",
       "version_major": 2,
       "version_minor": 0
      },
      "text/plain": [
       "Downloading vocab.json:   0%|          | 0.00/878k [00:00<?, ?B/s]"
      ]
     },
     "metadata": {},
     "output_type": "display_data"
    },
    {
     "data": {
      "application/vnd.jupyter.widget-view+json": {
       "model_id": "6b05be6351a44a2a86335c09377d5f48",
       "version_major": 2,
       "version_minor": 0
      },
      "text/plain": [
       "Downloading merges.txt:   0%|          | 0.00/446k [00:00<?, ?B/s]"
      ]
     },
     "metadata": {},
     "output_type": "display_data"
    },
    {
     "data": {
      "application/vnd.jupyter.widget-view+json": {
       "model_id": "c1ae801e6b41428883206ee24809d4ac",
       "version_major": 2,
       "version_minor": 0
      },
      "text/plain": [
       "Downloading special_tokens_map.json:   0%|          | 0.00/239 [00:00<?, ?B/s]"
      ]
     },
     "metadata": {},
     "output_type": "display_data"
    },
    {
     "data": {
      "application/vnd.jupyter.widget-view+json": {
       "model_id": "30ef38a6fb17495e9f8270a2c36b20d3",
       "version_major": 2,
       "version_minor": 0
      },
      "text/plain": [
       "Downloading pytorch_model.bin:   0%|          | 0.00/478M [00:00<?, ?B/s]"
      ]
     },
     "metadata": {},
     "output_type": "display_data"
    },
    {
     "name": "stderr",
     "output_type": "stream",
     "text": [
      "/home/ubuntu/code/.venv/lib/python3.10/site-packages/transformers/modeling_utils.py:367: FutureWarning: You are using `torch.load` with `weights_only=False` (the current default value), which uses the default pickle module implicitly. It is possible to construct malicious pickle data which will execute arbitrary code during unpickling (See https://github.com/pytorch/pytorch/blob/main/SECURITY.md#untrusted-models for more details). In a future release, the default value for `weights_only` will be flipped to `True`. This limits the functions that could be executed during unpickling. Arbitrary objects will no longer be allowed to be loaded via this mode unless they are explicitly allowlisted by the user via `torch.serialization.add_safe_globals`. We recommend you start setting `weights_only=True` for any use case where you don't have full control of the loaded file. Please open an issue on GitHub for any issues related to this experimental feature.\n",
      "  return torch.load(checkpoint_file, map_location=\"cpu\")\n",
      "Some weights of the model checkpoint at cardiffnlp/twitter-roberta-base-sentiment-latest were not used when initializing RobertaForSequenceClassification: ['roberta.pooler.dense.bias', 'roberta.pooler.dense.weight']\n",
      "- This IS expected if you are initializing RobertaForSequenceClassification from the checkpoint of a model trained on another task or with another architecture (e.g. initializing a BertForSequenceClassification model from a BertForPreTraining model).\n",
      "- This IS NOT expected if you are initializing RobertaForSequenceClassification from the checkpoint of a model that you expect to be exactly identical (initializing a BertForSequenceClassification model from a BertForSequenceClassification model).\n"
     ]
    }
   ],
   "source": [
    "model = tweetnlp.load_model('sentiment')"
   ]
  },
  {
   "cell_type": "code",
   "execution_count": 11,
   "id": "04e32965-7174-4c1b-b0f4-325f7576a972",
   "metadata": {
    "collapsed": true,
    "jupyter": {
     "outputs_hidden": true
    },
    "scrolled": true
   },
   "outputs": [
    {
     "data": {
      "application/vnd.jupyter.widget-view+json": {
       "model_id": "b03a0da1bc8e40e7ab247a7dfb53d87d",
       "version_major": 2,
       "version_minor": 0
      },
      "text/plain": [
       "  0%|          | 0/932159 [00:00<?, ?it/s]"
      ]
     },
     "metadata": {},
     "output_type": "display_data"
    },
    {
     "name": "stderr",
     "output_type": "stream",
     "text": [
      "IOPub message rate exceeded.\n",
      "The Jupyter server will temporarily stop sending output\n",
      "to the client in order to avoid crashing it.\n",
      "To change this limit, set the config variable\n",
      "`--ServerApp.iopub_msg_rate_limit`.\n",
      "\n",
      "Current values:\n",
      "ServerApp.iopub_msg_rate_limit=1000.0 (msgs/sec)\n",
      "ServerApp.rate_limit_window=3.0 (secs)\n",
      "\n",
      "IOPub message rate exceeded.\n",
      "The Jupyter server will temporarily stop sending output\n",
      "to the client in order to avoid crashing it.\n",
      "To change this limit, set the config variable\n",
      "`--ServerApp.iopub_msg_rate_limit`.\n",
      "\n",
      "Current values:\n",
      "ServerApp.iopub_msg_rate_limit=1000.0 (msgs/sec)\n",
      "ServerApp.rate_limit_window=3.0 (secs)\n",
      "\n",
      "IOPub message rate exceeded.\n",
      "The Jupyter server will temporarily stop sending output\n",
      "to the client in order to avoid crashing it.\n",
      "To change this limit, set the config variable\n",
      "`--ServerApp.iopub_msg_rate_limit`.\n",
      "\n",
      "Current values:\n",
      "ServerApp.iopub_msg_rate_limit=1000.0 (msgs/sec)\n",
      "ServerApp.rate_limit_window=3.0 (secs)\n",
      "\n",
      "IOPub message rate exceeded.\n",
      "The Jupyter server will temporarily stop sending output\n",
      "to the client in order to avoid crashing it.\n",
      "To change this limit, set the config variable\n",
      "`--ServerApp.iopub_msg_rate_limit`.\n",
      "\n",
      "Current values:\n",
      "ServerApp.iopub_msg_rate_limit=1000.0 (msgs/sec)\n",
      "ServerApp.rate_limit_window=3.0 (secs)\n",
      "\n"
     ]
    }
   ],
   "source": [
    "result = []\n",
    "for x in tqdm(df['text'].values):\n",
    "    result.append(model.sentiment(x, return_probability=True))"
   ]
  },
  {
   "cell_type": "code",
   "execution_count": 12,
   "id": "701940b0-1aa1-43c1-8da4-3cb8ca5cca4e",
   "metadata": {},
   "outputs": [
    {
     "data": {
      "text/plain": [
       "932159"
      ]
     },
     "execution_count": 12,
     "metadata": {},
     "output_type": "execute_result"
    }
   ],
   "source": [
    "len(result)"
   ]
  },
  {
   "cell_type": "code",
   "execution_count": 23,
   "id": "00f080a4-310d-4340-be1c-8989cb510c74",
   "metadata": {
    "scrolled": true
   },
   "outputs": [
    {
     "data": {
      "text/html": [
       "<div>\n",
       "<style scoped>\n",
       "    .dataframe tbody tr th:only-of-type {\n",
       "        vertical-align: middle;\n",
       "    }\n",
       "\n",
       "    .dataframe tbody tr th {\n",
       "        vertical-align: top;\n",
       "    }\n",
       "\n",
       "    .dataframe thead th {\n",
       "        text-align: right;\n",
       "    }\n",
       "</style>\n",
       "<table border=\"1\" class=\"dataframe\">\n",
       "  <thead>\n",
       "    <tr style=\"text-align: right;\">\n",
       "      <th></th>\n",
       "      <th>label</th>\n",
       "      <th>probability.negative</th>\n",
       "      <th>probability.neutral</th>\n",
       "      <th>probability.positive</th>\n",
       "    </tr>\n",
       "  </thead>\n",
       "  <tbody>\n",
       "    <tr>\n",
       "      <th>0</th>\n",
       "      <td>neutral</td>\n",
       "      <td>0.110795</td>\n",
       "      <td>0.864150</td>\n",
       "      <td>0.025054</td>\n",
       "    </tr>\n",
       "    <tr>\n",
       "      <th>1</th>\n",
       "      <td>neutral</td>\n",
       "      <td>0.276905</td>\n",
       "      <td>0.689769</td>\n",
       "      <td>0.033326</td>\n",
       "    </tr>\n",
       "    <tr>\n",
       "      <th>2</th>\n",
       "      <td>neutral</td>\n",
       "      <td>0.041938</td>\n",
       "      <td>0.766823</td>\n",
       "      <td>0.191239</td>\n",
       "    </tr>\n",
       "    <tr>\n",
       "      <th>3</th>\n",
       "      <td>positive</td>\n",
       "      <td>0.038006</td>\n",
       "      <td>0.377958</td>\n",
       "      <td>0.584036</td>\n",
       "    </tr>\n",
       "    <tr>\n",
       "      <th>4</th>\n",
       "      <td>negative</td>\n",
       "      <td>0.678413</td>\n",
       "      <td>0.299026</td>\n",
       "      <td>0.022561</td>\n",
       "    </tr>\n",
       "  </tbody>\n",
       "</table>\n",
       "</div>"
      ],
      "text/plain": [
       "      label  probability.negative  probability.neutral  probability.positive\n",
       "0   neutral              0.110795             0.864150              0.025054\n",
       "1   neutral              0.276905             0.689769              0.033326\n",
       "2   neutral              0.041938             0.766823              0.191239\n",
       "3  positive              0.038006             0.377958              0.584036\n",
       "4  negative              0.678413             0.299026              0.022561"
      ]
     },
     "execution_count": 23,
     "metadata": {},
     "output_type": "execute_result"
    }
   ],
   "source": [
    "result_df = pd.json_normalize(result)\n",
    "result_df.to_csv('data_sent.csv', index=False)\n",
    "result_df.head()"
   ]
  },
  {
   "cell_type": "code",
   "execution_count": null,
   "id": "45cba90c-663e-4fe3-81aa-fc68d19bfa4a",
   "metadata": {},
   "outputs": [],
   "source": []
  }
 ],
 "metadata": {
  "kernelspec": {
   "display_name": "Python 3 (ipykernel)",
   "language": "python",
   "name": "python3"
  },
  "language_info": {
   "codemirror_mode": {
    "name": "ipython",
    "version": 3
   },
   "file_extension": ".py",
   "mimetype": "text/x-python",
   "name": "python",
   "nbconvert_exporter": "python",
   "pygments_lexer": "ipython3",
   "version": "3.12.6"
  }
 },
 "nbformat": 4,
 "nbformat_minor": 5
}
